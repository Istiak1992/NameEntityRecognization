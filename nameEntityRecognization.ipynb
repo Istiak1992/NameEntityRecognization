{
  "nbformat": 4,
  "nbformat_minor": 0,
  "metadata": {
    "colab": {
      "provenance": [],
      "authorship_tag": "ABX9TyOF5r4wLgLeIoE3A5dawtmn",
      "include_colab_link": true
    },
    "kernelspec": {
      "name": "python3",
      "display_name": "Python 3"
    },
    "language_info": {
      "name": "python"
    }
  },
  "cells": [
    {
      "cell_type": "markdown",
      "metadata": {
        "id": "view-in-github",
        "colab_type": "text"
      },
      "source": [
        "<a href=\"https://colab.research.google.com/github/Istiak1992/NameEntityRecognization/blob/main/nameEntityRecognization.ipynb\" target=\"_parent\"><img src=\"https://colab.research.google.com/assets/colab-badge.svg\" alt=\"Open In Colab\"/></a>"
      ]
    },
    {
      "cell_type": "code",
      "execution_count": 1,
      "metadata": {
        "id": "FbVBBmlIbLpv"
      },
      "outputs": [],
      "source": [
        "import spacy"
      ]
    },
    {
      "cell_type": "code",
      "source": [
        "nlp =spacy.load('en_core_web_sm')"
      ],
      "metadata": {
        "id": "HB62ubuTbowG"
      },
      "execution_count": 3,
      "outputs": []
    },
    {
      "cell_type": "code",
      "source": [
        "text = \"Viktor Frankl is the CEO of Logotherapy. Born in 26 March 1905 , Austria,  Vienna\""
      ],
      "metadata": {
        "id": "TEbIUBOqb4Nf"
      },
      "execution_count": 28,
      "outputs": []
    },
    {
      "cell_type": "code",
      "source": [
        "doc = nlp(text)"
      ],
      "metadata": {
        "id": "SnEzRDlLcQnZ"
      },
      "execution_count": 29,
      "outputs": []
    },
    {
      "cell_type": "code",
      "source": [
        "doc"
      ],
      "metadata": {
        "colab": {
          "base_uri": "https://localhost:8080/"
        },
        "id": "VUiPr1VocUcr",
        "outputId": "508e76d9-3dc8-47cd-8e84-6afce8ced3e5"
      },
      "execution_count": 30,
      "outputs": [
        {
          "output_type": "execute_result",
          "data": {
            "text/plain": [
              "Viktor Frankl is the CEO of Logotherapy. Born in 26 March 1905 , Austria,  Vienna"
            ]
          },
          "metadata": {},
          "execution_count": 30
        }
      ]
    },
    {
      "cell_type": "code",
      "source": [
        "nlp.pipeline"
      ],
      "metadata": {
        "colab": {
          "base_uri": "https://localhost:8080/"
        },
        "id": "4JRGFJb-cbAX",
        "outputId": "535bed78-4fea-4133-cd0e-a37fe4675203"
      },
      "execution_count": 31,
      "outputs": [
        {
          "output_type": "execute_result",
          "data": {
            "text/plain": [
              "[('tok2vec', <spacy.pipeline.tok2vec.Tok2Vec at 0x79dc25066a50>),\n",
              " ('tagger', <spacy.pipeline.tagger.Tagger at 0x79dc25065a30>),\n",
              " ('parser', <spacy.pipeline.dep_parser.DependencyParser at 0x79dce9787a70>),\n",
              " ('attribute_ruler',\n",
              "  <spacy.pipeline.attributeruler.AttributeRuler at 0x79dc24e53e10>),\n",
              " ('lemmatizer',\n",
              "  <spacy.lang.en.lemmatizer.EnglishLemmatizer at 0x79dc24e61ad0>),\n",
              " ('ner', <spacy.pipeline.ner.EntityRecognizer at 0x79dce775a500>)]"
            ]
          },
          "metadata": {},
          "execution_count": 31
        }
      ]
    },
    {
      "cell_type": "code",
      "source": [
        "nlp.pipe_names"
      ],
      "metadata": {
        "colab": {
          "base_uri": "https://localhost:8080/"
        },
        "id": "cPScBEmScheC",
        "outputId": "9ec9ad75-f6cb-48e4-eef5-d1a61e01612e"
      },
      "execution_count": 32,
      "outputs": [
        {
          "output_type": "execute_result",
          "data": {
            "text/plain": [
              "['tok2vec', 'tagger', 'parser', 'attribute_ruler', 'lemmatizer', 'ner']"
            ]
          },
          "metadata": {},
          "execution_count": 32
        }
      ]
    },
    {
      "cell_type": "code",
      "source": [
        "doc.ents\n"
      ],
      "metadata": {
        "colab": {
          "base_uri": "https://localhost:8080/"
        },
        "id": "SODEP0NzclQD",
        "outputId": "f601bdc5-2f5f-4dff-cd86-fdacc5ae7a6d"
      },
      "execution_count": 34,
      "outputs": [
        {
          "output_type": "execute_result",
          "data": {
            "text/plain": [
              "(Viktor Frankl, Logotherapy, 26 March 1905, Austria, Vienna)"
            ]
          },
          "metadata": {},
          "execution_count": 34
        }
      ]
    },
    {
      "cell_type": "code",
      "source": [
        "for ent in doc.ents:\n",
        "  print(ent, \"-\",ent.label_, spacy.explain(ent.label_))"
      ],
      "metadata": {
        "colab": {
          "base_uri": "https://localhost:8080/"
        },
        "id": "FfXyw6Gncwlu",
        "outputId": "75ee4226-d9d3-4622-ccd8-b302af9a9844"
      },
      "execution_count": 36,
      "outputs": [
        {
          "output_type": "stream",
          "name": "stdout",
          "text": [
            "Viktor Frankl - PERSON People, including fictional\n",
            "Logotherapy - PERSON People, including fictional\n",
            "26 March 1905 - DATE Absolute or relative dates or periods\n",
            "Austria - GPE Countries, cities, states\n",
            "Vienna - GPE Countries, cities, states\n"
          ]
        }
      ]
    },
    {
      "cell_type": "code",
      "source": [
        "nlp.get_pipe(\"ner\").labels"
      ],
      "metadata": {
        "colab": {
          "base_uri": "https://localhost:8080/"
        },
        "id": "I_wLrrO4fI7p",
        "outputId": "b113d125-44b2-4d7f-f79f-b36b37d52570"
      },
      "execution_count": 37,
      "outputs": [
        {
          "output_type": "execute_result",
          "data": {
            "text/plain": [
              "('CARDINAL',\n",
              " 'DATE',\n",
              " 'EVENT',\n",
              " 'FAC',\n",
              " 'GPE',\n",
              " 'LANGUAGE',\n",
              " 'LAW',\n",
              " 'LOC',\n",
              " 'MONEY',\n",
              " 'NORP',\n",
              " 'ORDINAL',\n",
              " 'ORG',\n",
              " 'PERCENT',\n",
              " 'PERSON',\n",
              " 'PRODUCT',\n",
              " 'QUANTITY',\n",
              " 'TIME',\n",
              " 'WORK_OF_ART')"
            ]
          },
          "metadata": {},
          "execution_count": 37
        }
      ]
    },
    {
      "cell_type": "code",
      "source": [
        "name = None\n",
        "birth_date = None\n",
        "birth_place = None\n",
        "\n",
        "for ent in doc.ents:\n",
        "  if ent.label_ == \"PERSON\":\n",
        "    name = ent.text\n",
        "  elif ent.label_ == \"DATE\":\n",
        "    birth_date = ent.text\n",
        "  elif ent.label_ == \"GPE\":\n",
        "    birth_place = ent.text\n",
        "\n",
        "print(\"Name:\", name)\n",
        "print(\"Birth Date:\", birth_date)\n",
        "print(\"Birth Place:\", birth_place)"
      ],
      "metadata": {
        "colab": {
          "base_uri": "https://localhost:8080/"
        },
        "id": "ThBk1H3tfQSy",
        "outputId": "79881190-a958-4e6e-9879-37817432490c"
      },
      "execution_count": 39,
      "outputs": [
        {
          "output_type": "stream",
          "name": "stdout",
          "text": [
            "Name: Logotherapy\n",
            "Birth Date: 26 March 1905\n",
            "Birth Place: Vienna\n"
          ]
        }
      ]
    }
  ]
}